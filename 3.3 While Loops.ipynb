{
 "cells": [
  {
   "cell_type": "markdown",
   "metadata": {},
   "source": [
    "# While Loops"
   ]
  },
  {
   "cell_type": "markdown",
   "metadata": {},
   "source": [
    "The general format of a while loop is:\n",
    "```python\n",
    "    while test:\n",
    "        code statement\n",
    "    else:\n",
    "        final code statements\n",
    "```"
   ]
  },
  {
   "cell_type": "code",
   "execution_count": 1,
   "metadata": {
    "scrolled": true
   },
   "outputs": [
    {
     "name": "stdout",
     "output_type": "stream",
     "text": [
      "x is currently:  0\n",
      "x is currently:  1\n",
      "x is currently:  2\n",
      "x is currently:  3\n",
      "x is currently:  4\n",
      "x is currently:  5\n",
      "x is currently:  6\n",
      "x is currently:  7\n",
      "x is currently:  8\n",
      "x is currently:  9\n"
     ]
    }
   ],
   "source": [
    "x = 0\n",
    "\n",
    "while x < 10:\n",
    "    print('x is currently: ', x)\n",
    "    x += 1"
   ]
  },
  {
   "cell_type": "code",
   "execution_count": 2,
   "metadata": {},
   "outputs": [
    {
     "name": "stdout",
     "output_type": "stream",
     "text": [
      "x is currently:  0\n",
      " x is still less than 10, adding 1 to x\n",
      "x is currently:  1\n",
      " x is still less than 10, adding 1 to x\n",
      "x is currently:  2\n",
      " x is still less than 10, adding 1 to x\n",
      "x is currently:  3\n",
      " x is still less than 10, adding 1 to x\n",
      "x is currently:  4\n",
      " x is still less than 10, adding 1 to x\n",
      "x is currently:  5\n",
      " x is still less than 10, adding 1 to x\n",
      "x is currently:  6\n",
      " x is still less than 10, adding 1 to x\n",
      "x is currently:  7\n",
      " x is still less than 10, adding 1 to x\n",
      "x is currently:  8\n",
      " x is still less than 10, adding 1 to x\n",
      "x is currently:  9\n",
      " x is still less than 10, adding 1 to x\n",
      "All done!\n"
     ]
    }
   ],
   "source": [
    "x = 0\n",
    "\n",
    "while x < 10:\n",
    "    print('x is currently: ', x)\n",
    "    print(' x is still less than 10, adding 1 to x')\n",
    "    x += 1\n",
    "    \n",
    "else:\n",
    "    print('All done!')"
   ]
  },
  {
   "cell_type": "markdown",
   "metadata": {},
   "source": [
    "**break, continue, pass**"
   ]
  },
  {
   "cell_type": "markdown",
   "metadata": {},
   "source": [
    "We can use break, continue and pass statements in our loops to add additional functionality for various cases. The three statements are defined by\n",
    "\n",
    "break: Breaks out of the current closest enclosing loop.\n",
    "\n",
    "continue: Goes to the top of the closes enclosing loop.\n",
    "\n",
    "pass: Does nothing at all."
   ]
  },
  {
   "cell_type": "markdown",
   "metadata": {},
   "source": [
    "General format of the while loop:\n",
    "\n",
    "```python\n",
    "while test:\n",
    "    code statement\n",
    "    if test:\n",
    "        break\n",
    "    if test:\n",
    "        continue\n",
    "else:\n",
    "```"
   ]
  },
  {
   "cell_type": "code",
   "execution_count": 5,
   "metadata": {},
   "outputs": [
    {
     "name": "stdout",
     "output_type": "stream",
     "text": [
      "x is currently:  0\n",
      " x is still less than 10, adding 1 to x\n",
      "continuing...\n",
      "x is currently:  1\n",
      " x is still less than 10, adding 1 to x\n",
      "continuing...\n",
      "x is currently:  2\n",
      " x is still less than 10, adding 1 to x\n",
      "x == 3\n",
      "x is currently:  3\n",
      " x is still less than 10, adding 1 to x\n",
      "continuing...\n",
      "x is currently:  4\n",
      " x is still less than 10, adding 1 to x\n",
      "continuing...\n",
      "x is currently:  5\n",
      " x is still less than 10, adding 1 to x\n",
      "continuing...\n",
      "x is currently:  6\n",
      " x is still less than 10, adding 1 to x\n",
      "continuing...\n",
      "x is currently:  7\n",
      " x is still less than 10, adding 1 to x\n",
      "continuing...\n",
      "x is currently:  8\n",
      " x is still less than 10, adding 1 to x\n",
      "continuing...\n",
      "x is currently:  9\n",
      " x is still less than 10, adding 1 to x\n",
      "continuing...\n"
     ]
    }
   ],
   "source": [
    "x = 0\n",
    "\n",
    "while x < 10:\n",
    "    print('x is currently: ', x)\n",
    "    print(' x is still less than 10, adding 1 to x')\n",
    "    x += 1\n",
    "    if x == 3:\n",
    "        print('x == 3')\n",
    "    else:\n",
    "        print('continuing...')\n",
    "        continue"
   ]
  },
  {
   "cell_type": "markdown",
   "metadata": {},
   "source": [
    "Note how we have a printed statement when x==3, and a continue being printed out as we continue through the outer while loop. Let's put in a break once x ==3 and see if the result makes sense:"
   ]
  },
  {
   "cell_type": "code",
   "execution_count": 6,
   "metadata": {},
   "outputs": [
    {
     "name": "stdout",
     "output_type": "stream",
     "text": [
      "x is currently:  0\n",
      " x is still less than 10, adding 1 to x\n",
      "continuing...\n",
      "x is currently:  1\n",
      " x is still less than 10, adding 1 to x\n",
      "continuing...\n",
      "x is currently:  2\n",
      " x is still less than 10, adding 1 to x\n",
      "Beaking because x == 3\n"
     ]
    }
   ],
   "source": [
    "x = 0\n",
    "\n",
    "while x < 10:\n",
    "    print('x is currently: ', x)\n",
    "    print(' x is still less than 10, adding 1 to x')\n",
    "    x += 1\n",
    "    if x == 3:\n",
    "        print('Beaking because x == 3')\n",
    "        break\n",
    "    else:\n",
    "        print('continuing...')\n",
    "        continue"
   ]
  },
  {
   "cell_type": "code",
   "execution_count": null,
   "metadata": {},
   "outputs": [],
   "source": [
    "# DO NOT RUN THIS CODE!!!!\n",
    "\n",
    "```python\n",
    "\n",
    "while True:\n",
    "    print('Uh oh infinite Loop!')\n",
    "    \n",
    "```"
   ]
  }
 ],
 "metadata": {
  "kernelspec": {
   "display_name": "Python 3",
   "language": "python",
   "name": "python3"
  },
  "language_info": {
   "codemirror_mode": {
    "name": "ipython",
    "version": 3
   },
   "file_extension": ".py",
   "mimetype": "text/x-python",
   "name": "python",
   "nbconvert_exporter": "python",
   "pygments_lexer": "ipython3",
   "version": "3.6.4"
  }
 },
 "nbformat": 4,
 "nbformat_minor": 2
}
